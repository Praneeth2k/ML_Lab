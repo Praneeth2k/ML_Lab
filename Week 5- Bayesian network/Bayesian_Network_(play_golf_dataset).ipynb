{
  "nbformat": 4,
  "nbformat_minor": 0,
  "metadata": {
    "colab": {
      "name": "Bayesian Network (play golf dataset).ipynb",
      "provenance": []
    },
    "kernelspec": {
      "name": "python3",
      "display_name": "Python 3"
    },
    "language_info": {
      "name": "python"
    }
  },
  "cells": [
    {
      "cell_type": "code",
      "metadata": {
        "colab": {
          "base_uri": "https://localhost:8080/"
        },
        "id": "PzZUc6UhwfK0",
        "outputId": "30f3b5ca-3b66-4c09-85f2-b96126e3c7c9"
      },
      "source": [
        "import numpy as np\n",
        "import pandas as pd\n",
        "import csv\n",
        "from pgmpy.estimators import MaximumLikelihoodEstimator\n",
        "from pgmpy.models import BayesianModel\n",
        "from pgmpy.inference import VariableElimination\n",
        "#read Cleveland Heart Disease data\n",
        "playGolf = pd.read_csv('/golf-dataset.csv')\n",
        "playGolf = playGolf.replace('?',np.nan)\n",
        "#display the data\n",
        "print('Sample instances from the dataset are given below')\n",
        "print(playGolf.head())\n",
        "#display the Attributes names and datatyes\n",
        "print('\\n Attributes and datatypes')\n",
        "print(playGolf.dtypes)\n",
        "#Creat Model- Bayesian Network\n",
        "model = BayesianModel([('Outlook','Play Golf'),('Temp','Play Golf'),(\n",
        "'Humidity','Play Golf'),('Windy','Play Golf')])\n",
        "\n",
        "#Learning CPDs using Maximum Likelihood Estimators\n",
        "print('\\n Learning CPD using Maximum likelihood estimators')\n",
        "model.fit(playGolf,estimator=MaximumLikelihoodEstimator)\n",
        "# Inferencing with Bayesian Network\n",
        "print('\\n Inferencing with Bayesian Network:')\n",
        "PlayGolf_infer = VariableElimination(model)\n",
        "#computing the Probability of HeartDisease given Outlook\n",
        "print('\\n 1.Probability of Play Golf given evidence=Outlook :Rainy')\n",
        "q1=PlayGolf_infer.query(variables=['Play Golf'],evidence={'Outlook':'Rainy'})\n",
        "print(q1)\n",
        "#computing the Probability of Play Golf given Humidity\n",
        "print('\\n 2.Probability of Play Golf given evidence= Humidity:Normal ')\n",
        "q2=PlayGolf_infer.query(variables=['Play Golf'],evidence={'Humidity':'Normal'})\n",
        "print(q2)"
      ],
      "execution_count": 6,
      "outputs": [
        {
          "output_type": "stream",
          "text": [
            "Finding Elimination Order: : 100%|██████████| 3/3 [00:00<00:00, 424.93it/s]\n",
            "Eliminating: Windy: 100%|██████████| 3/3 [00:00<00:00, 125.54it/s]\n",
            "Finding Elimination Order: : 100%|██████████| 3/3 [00:00<00:00, 280.58it/s]\n",
            "Eliminating: Windy: 100%|██████████| 3/3 [00:00<00:00, 184.39it/s]"
          ],
          "name": "stderr"
        },
        {
          "output_type": "stream",
          "text": [
            "Sample instances from the dataset are given below\n",
            "    Outlook  Temp Humidity  Windy Play Golf\n",
            "0     Rainy   Hot     High  False        No\n",
            "1     Rainy   Hot     High   True        No\n",
            "2  Overcast   Hot     High  False       Yes\n",
            "3     Sunny  Mild     High  False       Yes\n",
            "4     Sunny  Cool   Normal  False       Yes\n",
            "\n",
            " Attributes and datatypes\n",
            "Outlook      object\n",
            "Temp         object\n",
            "Humidity     object\n",
            "Windy          bool\n",
            "Play Golf    object\n",
            "dtype: object\n",
            "\n",
            " Learning CPD using Maximum likelihood estimators\n",
            "\n",
            " Inferencing with Bayesian Network:\n",
            "\n",
            " 1.Probability of Play Golf given evidence=Outlook :Rainy\n",
            "+----------------+------------------+\n",
            "| Play Golf      |   phi(Play Golf) |\n",
            "+================+==================+\n",
            "| Play Golf(No)  |           0.5459 |\n",
            "+----------------+------------------+\n",
            "| Play Golf(Yes) |           0.4541 |\n",
            "+----------------+------------------+\n",
            "\n",
            " 2.Probability of Play Golf given evidence= Humidity:Normal \n",
            "+----------------+------------------+\n",
            "| Play Golf      |   phi(Play Golf) |\n",
            "+================+==================+\n",
            "| Play Golf(No)  |           0.3462 |\n",
            "+----------------+------------------+\n",
            "| Play Golf(Yes) |           0.6538 |\n",
            "+----------------+------------------+\n"
          ],
          "name": "stdout"
        },
        {
          "output_type": "stream",
          "text": [
            "\n"
          ],
          "name": "stderr"
        }
      ]
    },
    {
      "cell_type": "code",
      "metadata": {
        "id": "Z3EB8oNowzRp"
      },
      "source": [
        "!pip install pgmpy"
      ],
      "execution_count": null,
      "outputs": []
    }
  ]
}