{
 "cells": [
  {
   "cell_type": "code",
   "execution_count": 1,
   "id": "varying-mongolia",
   "metadata": {
    "_cell_guid": "b1076dfc-b9ad-4769-8c92-a6c4dae69d19",
    "_uuid": "8f2839f25d086af736a60e9eeb907d3b93b6e0e5",
    "execution": {
     "iopub.execute_input": "2021-04-27T04:48:02.893953Z",
     "iopub.status.busy": "2021-04-27T04:48:02.893217Z",
     "iopub.status.idle": "2021-04-27T04:48:04.106431Z",
     "shell.execute_reply": "2021-04-27T04:48:04.105666Z"
    },
    "papermill": {
     "duration": 1.226979,
     "end_time": "2021-04-27T04:48:04.106592",
     "exception": false,
     "start_time": "2021-04-27T04:48:02.879613",
     "status": "completed"
    },
    "tags": []
   },
   "outputs": [
    {
     "name": "stdout",
     "output_type": "stream",
     "text": [
      "Features:  ['alcohol', 'malic_acid', 'ash', 'alcalinity_of_ash', 'magnesium', 'total_phenols', 'flavanoids', 'nonflavanoid_phenols', 'proanthocyanins', 'color_intensity', 'hue', 'od280/od315_of_diluted_wines', 'proline']\n",
      "None\n"
     ]
    }
   ],
   "source": [
    "\n",
    "import numpy as np \n",
    "import pandas as pd \n",
    "\n",
    "#Import dataset \n",
    "\n",
    "from sklearn import datasets\n",
    "from sklearn.datasets import load_wine\n",
    "\n",
    "wine = load_wine()\n",
    "print(print (\"Features: \", wine.feature_names))\n",
    "\n",
    "\n",
    "\n",
    "import os\n",
    "for dirname, _, filenames in os.walk('/kaggle/input'):\n",
    "    for filename in filenames:\n",
    "        print(os.path.join(dirname, filename))\n",
    "\n"
   ]
  },
  {
   "cell_type": "code",
   "execution_count": 2,
   "id": "labeled-convergence",
   "metadata": {
    "execution": {
     "iopub.execute_input": "2021-04-27T04:48:04.124011Z",
     "iopub.status.busy": "2021-04-27T04:48:04.123348Z",
     "iopub.status.idle": "2021-04-27T04:48:04.143376Z",
     "shell.execute_reply": "2021-04-27T04:48:04.143887Z"
    },
    "papermill": {
     "duration": 0.031501,
     "end_time": "2021-04-27T04:48:04.144091",
     "exception": false,
     "start_time": "2021-04-27T04:48:04.112590",
     "status": "completed"
    },
    "tags": []
   },
   "outputs": [
    {
     "name": "stdout",
     "output_type": "stream",
     "text": [
      "      0     1     2     3      4     5     6     7     8     9     10    11  \\\n",
      "0  14.23  1.71  2.43  15.6  127.0  2.80  3.06  0.28  2.29  5.64  1.04  3.92   \n",
      "1  13.20  1.78  2.14  11.2  100.0  2.65  2.76  0.26  1.28  4.38  1.05  3.40   \n",
      "2  13.16  2.36  2.67  18.6  101.0  2.80  3.24  0.30  2.81  5.68  1.03  3.17   \n",
      "3  14.37  1.95  2.50  16.8  113.0  3.85  3.49  0.24  2.18  7.80  0.86  3.45   \n",
      "4  13.24  2.59  2.87  21.0  118.0  2.80  2.69  0.39  1.82  4.32  1.04  2.93   \n",
      "\n",
      "       12  \n",
      "0  1065.0  \n",
      "1  1050.0  \n",
      "2  1185.0  \n",
      "3  1480.0  \n",
      "4   735.0  \n",
      "(178, 13)\n",
      "[0 0 0 0 0 0 0 0 0 0 0 0 0 0 0 0 0 0 0 0 0 0 0 0 0 0 0 0 0 0 0 0 0 0 0 0 0\n",
      " 0 0 0 0 0 0 0 0 0 0 0 0 0 0 0 0 0 0 0 0 0 0 1 1 1 1 1 1 1 1 1 1 1 1 1 1 1\n",
      " 1 1 1 1 1 1 1 1 1 1 1 1 1 1 1 1 1 1 1 1 1 1 1 1 1 1 1 1 1 1 1 1 1 1 1 1 1\n",
      " 1 1 1 1 1 1 1 1 1 1 1 1 1 1 1 1 1 1 1 2 2 2 2 2 2 2 2 2 2 2 2 2 2 2 2 2 2\n",
      " 2 2 2 2 2 2 2 2 2 2 2 2 2 2 2 2 2 2 2 2 2 2 2 2 2 2 2 2 2 2]\n"
     ]
    }
   ],
   "source": [
    "X=pd.DataFrame(wine['data'])\n",
    "\n",
    "print(X.head())\n",
    "\n",
    "print(wine.data.shape)\n",
    "\n",
    "#print the wine labels (0:Class_0, 1:class_2, 2:class_2)\n",
    "\n",
    "y=print (wine.target)"
   ]
  },
  {
   "cell_type": "code",
   "execution_count": 3,
   "id": "shared-reliance",
   "metadata": {
    "execution": {
     "iopub.execute_input": "2021-04-27T04:48:04.159677Z",
     "iopub.status.busy": "2021-04-27T04:48:04.159005Z",
     "iopub.status.idle": "2021-04-27T04:48:04.226456Z",
     "shell.execute_reply": "2021-04-27T04:48:04.226961Z"
    },
    "papermill": {
     "duration": 0.077379,
     "end_time": "2021-04-27T04:48:04.227217",
     "exception": false,
     "start_time": "2021-04-27T04:48:04.149838",
     "status": "completed"
    },
    "tags": []
   },
   "outputs": [],
   "source": [
    "# Import train_test_split function\n",
    "\n",
    "from sklearn.model_selection import train_test_split\n",
    "\n",
    "# Split dataset into training set and test set\n",
    "\n",
    "X_train, X_test, y_train, y_test = train_test_split(wine.data, wine.target, test_size=0.30,random_state=109)"
   ]
  },
  {
   "cell_type": "code",
   "execution_count": 4,
   "id": "ethical-ranking",
   "metadata": {
    "execution": {
     "iopub.execute_input": "2021-04-27T04:48:04.242815Z",
     "iopub.status.busy": "2021-04-27T04:48:04.242006Z",
     "iopub.status.idle": "2021-04-27T04:48:04.252667Z",
     "shell.execute_reply": "2021-04-27T04:48:04.253719Z"
    },
    "papermill": {
     "duration": 0.020856,
     "end_time": "2021-04-27T04:48:04.254024",
     "exception": false,
     "start_time": "2021-04-27T04:48:04.233168",
     "status": "completed"
    },
    "tags": []
   },
   "outputs": [
    {
     "name": "stdout",
     "output_type": "stream",
     "text": [
      "[0 0 1 2 0 1 0 0 1 0 2 2 2 2 0 1 1 0 0 1 2 1 0 2 0 0 1 2 0 1 2 1 1 0 1 1 0\n",
      " 2 2 0 2 1 0 0 0 2 2 0 1 1 2 0 0 2]\n"
     ]
    }
   ],
   "source": [
    "#Import Gaussian Naive Bayes model\n",
    "\n",
    "from sklearn.naive_bayes import GaussianNB\n",
    "\n",
    "#Create a Gaussian Classifier\n",
    "\n",
    "gnb = GaussianNB()\n",
    "\n",
    "#Train the model using the training sets\n",
    "\n",
    "gnb.fit(X_train, y_train)\n",
    "\n",
    "#Predict the response for test dataset\n",
    "\n",
    "y_pred = gnb.predict(X_test)\n",
    "\n",
    "print(y_pred)"
   ]
  },
  {
   "cell_type": "code",
   "execution_count": 5,
   "id": "universal-leadership",
   "metadata": {
    "execution": {
     "iopub.execute_input": "2021-04-27T04:48:04.271844Z",
     "iopub.status.busy": "2021-04-27T04:48:04.270907Z",
     "iopub.status.idle": "2021-04-27T04:48:04.285734Z",
     "shell.execute_reply": "2021-04-27T04:48:04.286600Z"
    },
    "papermill": {
     "duration": 0.02535,
     "end_time": "2021-04-27T04:48:04.286976",
     "exception": false,
     "start_time": "2021-04-27T04:48:04.261626",
     "status": "completed"
    },
    "tags": []
   },
   "outputs": [
    {
     "name": "stdout",
     "output_type": "stream",
     "text": [
      "Accuracy: 0.9074074074074074\n"
     ]
    },
    {
     "data": {
      "text/plain": [
       "array([[20,  1,  0],\n",
       "       [ 2, 15,  2],\n",
       "       [ 0,  0, 14]])"
      ]
     },
     "execution_count": 5,
     "metadata": {},
     "output_type": "execute_result"
    }
   ],
   "source": [
    "#Import scikit-learn metrics module for accuracy calculation\n",
    "\n",
    "from sklearn import metrics\n",
    "\n",
    "# Model Accuracy\n",
    "\n",
    "print(\"Accuracy:\",metrics.accuracy_score(y_test, y_pred))\n",
    "\n",
    "#confusion matrix \n",
    "\n",
    "from sklearn.metrics import  confusion_matrix\n",
    "\n",
    "cm=np.array(confusion_matrix(y_test,y_pred))\n",
    "\n",
    "cm"
   ]
  }
 ],
 "metadata": {
  "kernelspec": {
   "display_name": "Python 3",
   "language": "python",
   "name": "python3"
  },
  "language_info": {
   "codemirror_mode": {
    "name": "ipython",
    "version": 3
   },
   "file_extension": ".py",
   "mimetype": "text/x-python",
   "name": "python",
   "nbconvert_exporter": "python",
   "pygments_lexer": "ipython3",
   "version": "3.7.9"
  },
  "papermill": {
   "default_parameters": {},
   "duration": 8.434871,
   "end_time": "2021-04-27T04:48:04.904676",
   "environment_variables": {},
   "exception": null,
   "input_path": "__notebook__.ipynb",
   "output_path": "__notebook__.ipynb",
   "parameters": {},
   "start_time": "2021-04-27T04:47:56.469805",
   "version": "2.3.2"
  }
 },
 "nbformat": 4,
 "nbformat_minor": 5
}
