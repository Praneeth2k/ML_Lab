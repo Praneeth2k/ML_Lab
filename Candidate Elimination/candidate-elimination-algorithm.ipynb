{
 "cells": [
  {
   "cell_type": "code",
   "execution_count": 1,
   "metadata": {
    "_cell_guid": "b1076dfc-b9ad-4769-8c92-a6c4dae69d19",
    "_uuid": "8f2839f25d086af736a60e9eeb907d3b93b6e0e5",
    "execution": {
     "iopub.execute_input": "2021-03-30T09:50:30.510781Z",
     "iopub.status.busy": "2021-03-30T09:50:30.510119Z",
     "iopub.status.idle": "2021-03-30T09:50:30.530428Z",
     "shell.execute_reply": "2021-03-30T09:50:30.529614Z"
    },
    "papermill": {
     "duration": 0.027057,
     "end_time": "2021-03-30T09:50:30.530656",
     "exception": false,
     "start_time": "2021-03-30T09:50:30.503599",
     "status": "completed"
    },
    "tags": []
   },
   "outputs": [
    {
     "name": "stdout",
     "output_type": "stream",
     "text": [
      "/kaggle/input/candidateele/Enjoy.csv\n"
     ]
    }
   ],
   "source": [
    "# This Python 3 environment comes with many helpful analytics libraries installed\n",
    "# It is defined by the kaggle/python Docker image: https://github.com/kaggle/docker-python\n",
    "# For example, here's several helpful packages to load\n",
    "\n",
    "import numpy as np # linear algebra\n",
    "import pandas as pd # data processing, CSV file I/O (e.g. pd.read_csv)\n",
    "\n",
    "# Input data files are available in the read-only \"../input/\" directory\n",
    "# For example, running this (by clicking run or pressing Shift+Enter) will list all files under the input directory\n",
    "\n",
    "import os\n",
    "for dirname, _, filenames in os.walk('/kaggle/input'):\n",
    "    for filename in filenames:\n",
    "        print(os.path.join(dirname, filename))\n",
    "\n",
    "# You can write up to 20GB to the current directory (/kaggle/working/) that gets preserved as output when you create a version using \"Save & Run All\" \n",
    "# You can also write temporary files to /kaggle/temp/, but they won't be saved outside of the current session"
   ]
  },
  {
   "cell_type": "code",
   "execution_count": 2,
   "metadata": {
    "execution": {
     "iopub.execute_input": "2021-03-30T09:50:30.551869Z",
     "iopub.status.busy": "2021-03-30T09:50:30.551199Z",
     "iopub.status.idle": "2021-03-30T09:50:30.601320Z",
     "shell.execute_reply": "2021-03-30T09:50:30.600585Z"
    },
    "papermill": {
     "duration": 0.066785,
     "end_time": "2021-03-30T09:50:30.601466",
     "exception": false,
     "start_time": "2021-03-30T09:50:30.534681",
     "status": "completed"
    },
    "tags": []
   },
   "outputs": [
    {
     "name": "stdout",
     "output_type": "stream",
     "text": [
      "     Sky Temperature   Humid    Wind Water  Forest Enjoy\n",
      "0  sunny        warm  normal  strong  warm    same   yes\n",
      "1  sunny        warm    high  strong  warm    same   yes\n",
      "2  rainy        cold    high  strong  warm  change    no\n",
      "3  sunny        warm    high  strong  cool  change   yes\n",
      "Initialization of specific hypothesis and general hypothesis\n",
      "specific hypothesis:  ['sunny' 'warm' 'normal' 'strong' 'warm' 'same']\n",
      "general hypothesis:  [['?', '?', '?', '?', '?', '?'], ['?', '?', '?', '?', '?', '?'], ['?', '?', '?', '?', '?', '?'], ['?', '?', '?', '?', '?', '?'], ['?', '?', '?', '?', '?', '?'], ['?', '?', '?', '?', '?', '?']]\n",
      "concepts:  [['sunny' 'warm' 'normal' 'strong' 'warm' 'same']\n",
      " ['sunny' 'warm' 'high' 'strong' 'warm' 'same']\n",
      " ['rainy' 'cold' 'high' 'strong' 'warm' 'change']\n",
      " ['sunny' 'warm' 'high' 'strong' 'cool' 'change']]\n",
      "\n",
      "Step:  1\n",
      "Specific hypothesis:  1\n",
      "['sunny' 'warm' 'normal' 'strong' 'warm' 'same'] \n",
      "\n",
      "General hypothesis : 1\n",
      "[['?', '?', '?', '?', '?', '?'], ['?', '?', '?', '?', '?', '?'], ['?', '?', '?', '?', '?', '?'], ['?', '?', '?', '?', '?', '?'], ['?', '?', '?', '?', '?', '?'], ['?', '?', '?', '?', '?', '?']]\n",
      "\n",
      "Step:  2\n",
      "Specific hypothesis:  2\n",
      "['sunny' 'warm' '?' 'strong' 'warm' 'same'] \n",
      "\n",
      "General hypothesis : 2\n",
      "[['?', '?', '?', '?', '?', '?'], ['?', '?', '?', '?', '?', '?'], ['?', '?', '?', '?', '?', '?'], ['?', '?', '?', '?', '?', '?'], ['?', '?', '?', '?', '?', '?'], ['?', '?', '?', '?', '?', '?']]\n",
      "\n",
      "Step:  3\n",
      "Specific hypothesis:  3\n",
      "['sunny' 'warm' '?' 'strong' 'warm' 'same'] \n",
      "\n",
      "General hypothesis : 3\n",
      "[['sunny', '?', '?', '?', '?', '?'], ['?', 'warm', '?', '?', '?', '?'], ['?', '?', '?', '?', '?', '?'], ['?', '?', '?', '?', '?', '?'], ['?', '?', '?', '?', '?', '?'], ['?', '?', '?', '?', '?', 'same']]\n",
      "\n",
      "Step:  4\n",
      "Specific hypothesis:  4\n",
      "['sunny' 'warm' '?' 'strong' '?' '?'] \n",
      "\n",
      "General hypothesis : 4\n",
      "[['sunny', '?', '?', '?', '?', '?'], ['?', 'warm', '?', '?', '?', '?'], ['?', '?', '?', '?', '?', '?'], ['?', '?', '?', '?', '?', '?'], ['?', '?', '?', '?', '?', '?'], ['?', '?', '?', '?', '?', '?']]\n",
      "\n",
      "Final Specific hypothesis:\n",
      "['sunny' 'warm' '?' 'strong' '?' '?']\n",
      "Final General hypothesis:\n",
      "[['sunny', '?', '?', '?', '?', '?'], ['?', 'warm', '?', '?', '?', '?']]\n"
     ]
    }
   ],
   "source": [
    "data = pd.DataFrame(data=pd.read_csv('/kaggle/input/candidateele/Enjoy.csv'))\n",
    "print(data)\n",
    "concepts = np.array(data.iloc[:,0:-1])\n",
    "target = np.array(data.iloc[:,-1])\n",
    "\n",
    "def candidate_ele(concepts, target):\n",
    "    specific_h = concepts[0].copy()\n",
    "    print(\"Initialization of specific hypothesis and general hypothesis\")\n",
    "    print(\"specific hypothesis: \",specific_h)\n",
    "    general_h = [[\"?\" for i in range(len(specific_h))] for i in range(len(specific_h))]\n",
    "    print(\"general hypothesis: \",general_h)\n",
    "    print(\"concepts: \",concepts)\n",
    "    for i, h in enumerate(concepts):\n",
    "        if target[i] == \"yes\":\n",
    "            for x in range(len(specific_h)):\n",
    "                #print(\"h[x]\",h[x])\n",
    "                if h[x] != specific_h[x]:\n",
    "                    specific_h[x] = '?'\n",
    "                    general_h[x][x] = '?'\n",
    "        if target[i] == \"no\":\n",
    "            for x in range(len(specific_h)):\n",
    "                if h[x] != specific_h[x]:\n",
    "                    general_h[x][x] = specific_h[x]\n",
    "                else:\n",
    "                    general_h[x][x] = '?'\n",
    "        print(\"\\nStep: \",i+1)\n",
    "        print(\"Specific hypothesis: \",i+1)\n",
    "        print(specific_h,\"\\n\")\n",
    "        print(\"General hypothesis :\", i+1)\n",
    "        print(general_h)\n",
    "        indices = [i for i, val in enumerate(general_h) if val == ['?', '?', '?', '?', '?', '?']]\n",
    "    for i in indices:\n",
    "        general_h.remove(['?', '?', '?', '?', '?', '?'])\n",
    "    return specific_h, general_h\n",
    "\n",
    "s_final,g_final = candidate_ele(concepts, target)\n",
    "print(\"\\nFinal Specific hypothesis:\", s_final, sep=\"\\n\")\n",
    "print(\"Final General hypothesis:\", g_final, sep=\"\\n\")"
   ]
  }
 ],
 "metadata": {
  "kernelspec": {
   "display_name": "Python 3",
   "language": "python",
   "name": "python3"
  },
  "language_info": {
   "codemirror_mode": {
    "name": "ipython",
    "version": 3
   },
   "file_extension": ".py",
   "mimetype": "text/x-python",
   "name": "python",
   "nbconvert_exporter": "python",
   "pygments_lexer": "ipython3",
   "version": "3.7.9"
  },
  "papermill": {
   "default_parameters": {},
   "duration": 6.885756,
   "end_time": "2021-03-30T09:50:31.215096",
   "environment_variables": {},
   "exception": null,
   "input_path": "__notebook__.ipynb",
   "output_path": "__notebook__.ipynb",
   "parameters": {},
   "start_time": "2021-03-30T09:50:24.329340",
   "version": "2.2.2"
  }
 },
 "nbformat": 4,
 "nbformat_minor": 4
}
